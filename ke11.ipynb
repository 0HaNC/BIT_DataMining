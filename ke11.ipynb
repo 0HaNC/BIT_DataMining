{
 "cells": [
  {
   "cell_type": "markdown",
   "metadata": {},
   "source": [
    "[Github链接](http://https://github.com/0HaNC/BIT_DataMining)"
   ]
  },
  {
   "cell_type": "markdown",
   "metadata": {},
   "source": [
    "# 一、Consumer & Visitor Insights For Neighborhoods 数据集"
   ]
  },
  {
   "cell_type": "code",
   "execution_count": null,
   "metadata": {},
   "outputs": [],
   "source": [
    "# This Python 3 environment comes with many helpful analytics libraries installed\n",
    "# It is defined by the kaggle/python Docker image: https://github.com/kaggle/docker-python\n",
    "# For example, here's several helpful packages to load\n",
    "\n",
    "import numpy as np # linear algebra\n",
    "import pandas as pd # data processing, CSV file I/O (e.g. pd.read_csv)\n",
    "\n",
    "# Input data files are available in the read-only \"../input/\" directory\n",
    "# For example, running this (by clicking run or pressing Shift+Enter) will list all files under the input directory\n",
    "\n",
    "import os\n",
    "for dirname, _, filenames in os.walk('/kaggle/input'):\n",
    "    for filename in filenames:\n",
    "        print(os.path.join(dirname, filename))\n",
    "\n",
    "# You can write up to 5GB to the current directory (/kaggle/working/) that gets preserved as output when you create a version using \"Save & Run All\" \n",
    "# You can also write temporary files to /kaggle/temp/, but they won't be saved outside of the current session"
   ]
  },
  {
   "cell_type": "code",
   "execution_count": 12,
   "metadata": {},
   "outputs": [],
   "source": [
    "csv = pd.read_csv('/kaggle/input/visit-patterns-by-census-block-group/cbg_patterns.csv')\n",
    "#人工判断属性类别\n",
    "nominal = ['census_block_group', 'visitor_home_cbgs', 'visitor_work_cbgs', 'related_same_day_brand', 'related_same_month_brand','top_brands', 'popularity_by_hour', 'popularity_by_day']\n",
    "numeric = ['date_range_start', 'date_range_end',  'raw_visit_count', 'raw_visitor_count', 'distance_from_home']\n",
    "assert len(csv.columns)==len(nominal)+len(numeric), f'{len(csv.columns)}!={len(nominal)+len(numeric)}'\n"
   ]
  },
  {
   "cell_type": "markdown",
   "metadata": {},
   "source": [
    "# 1. 数据可视化和摘要\n",
    "## 1.1 数据摘要\n",
    "* 标称数据"
   ]
  },
  {
   "cell_type": "code",
   "execution_count": 13,
   "metadata": {},
   "outputs": [
    {
     "name": "stdout",
     "output_type": "stream",
     "text": [
      "属性top_brands可能取值的频数:\n"
     ]
    },
    {
     "data": {
      "text/plain": [
       "[]                                                                                                                                      74540\n",
       "[\"United States Postal Service (USPS)\"]                                                                                                  5352\n",
       "[\"Aflac (American Family Life Assurance)\"]                                                                                               1517\n",
       "[\"Dollar General\"]                                                                                                                       1308\n",
       "[\"National Association for the Education of Young Children (NAEYC)\"]                                                                     1071\n",
       "                                                                                                                                        ...  \n",
       "[\"Dollar Tree\",\"Cricket Wireless\",\"O'Reilly Auto Parts\"]                                                                                    1\n",
       "[\"Sunoco\",\"Popeyes Louisiana Kitchen\",\"Bank of America\",\"Cricket Wireless\",\"Boost Mobile\",\"T-Mobile\"]                                       1\n",
       "[\"Sonic\",\"Dollar Tree\",\"Bojangles'\",\"Dollar General\",\"Penske\",\"Graybar\",\"Pioneer Credit\"]                                                   1\n",
       "[\"SUBWAY\",\"Dollar General\",\"Gino's Pizza & Spaghetti House\",\"United States Postal Service (USPS)\",\"BB&T (Branch Banking and Trust)\"]        1\n",
       "[\"76\",\"Taco Bell\",\"ARCO\",\"KFC US\"]                                                                                                          1\n",
       "Name: top_brands, Length: 98086, dtype: int64"
      ]
     },
     "execution_count": 13,
     "metadata": {},
     "output_type": "execute_result"
    }
   ],
   "source": [
    "attr = 'top_brands' #设置展示的属性\n",
    "column = csv[attr]\n",
    "print(f'属性{attr}可能取值的频数:')\n",
    "column.value_counts()"
   ]
  },
  {
   "cell_type": "code",
   "execution_count": 14,
   "metadata": {},
   "outputs": [
    {
     "data": {
      "text/plain": [
       "Text(0.5, 1.0, 'top10 values')"
      ]
     },
     "execution_count": 14,
     "metadata": {},
     "output_type": "execute_result"
    },
    {
     "data": {
      "image/png": "[encoded data removed]",
      "text/plain": [
       "<Figure size 432x288 with 1 Axes>"
      ]
     },
     "metadata": {
      "needs_background": "light"
     },
     "output_type": "display_data"
    }
   ],
   "source": [
    "#取前10高频数的取值展示为条形图\n",
    "ax = column.value_counts().head(10).plot.barh()\n",
    "plt.title('top10 values')"
   ]
  },
  {
   "cell_type": "markdown",
   "metadata": {},
   "source": [
    "* 数值数据"
   ]
  },
  {
   "cell_type": "code",
   "execution_count": 15,
   "metadata": {},
   "outputs": [
    {
     "name": "stdout",
     "output_type": "stream",
     "text": [
      "数值属性的五数概括:\n"
     ]
    },
    {
     "data": {
      "text/html": [
       "<div>\n",
       "<style scoped>\n",
       "    .dataframe tbody tr th:only-of-type {\n",
       "        vertical-align: middle;\n",
       "    }\n",
       "\n",
       "    .dataframe tbody tr th {\n",
       "        vertical-align: top;\n",
       "    }\n",
       "\n",
       "    .dataframe thead th {\n",
       "        text-align: right;\n",
       "    }\n",
       "</style>\n",
       "<table border=\"1\" class=\"dataframe\">\n",
       "  <thead>\n",
       "    <tr style=\"text-align: right;\">\n",
       "      <th></th>\n",
       "      <th>date_range_start</th>\n",
       "      <th>date_range_end</th>\n",
       "      <th>raw_visit_count</th>\n",
       "      <th>raw_visitor_count</th>\n",
       "      <th>distance_from_home</th>\n",
       "    </tr>\n",
       "  </thead>\n",
       "  <tbody>\n",
       "    <tr>\n",
       "      <th>min</th>\n",
       "      <td>1.538352e+09</td>\n",
       "      <td>1.541030e+09</td>\n",
       "      <td>60.0</td>\n",
       "      <td>50.0</td>\n",
       "      <td>706.00</td>\n",
       "    </tr>\n",
       "    <tr>\n",
       "      <th>25%</th>\n",
       "      <td>1.538352e+09</td>\n",
       "      <td>1.541030e+09</td>\n",
       "      <td>17042.0</td>\n",
       "      <td>3430.0</td>\n",
       "      <td>8584.00</td>\n",
       "    </tr>\n",
       "    <tr>\n",
       "      <th>50%</th>\n",
       "      <td>1.538352e+09</td>\n",
       "      <td>1.541030e+09</td>\n",
       "      <td>30640.0</td>\n",
       "      <td>6541.0</td>\n",
       "      <td>14614.00</td>\n",
       "    </tr>\n",
       "    <tr>\n",
       "      <th>75%</th>\n",
       "      <td>1.538352e+09</td>\n",
       "      <td>1.541030e+09</td>\n",
       "      <td>56678.0</td>\n",
       "      <td>13099.0</td>\n",
       "      <td>31397.75</td>\n",
       "    </tr>\n",
       "    <tr>\n",
       "      <th>max</th>\n",
       "      <td>1.538352e+09</td>\n",
       "      <td>1.541030e+09</td>\n",
       "      <td>7179900.0</td>\n",
       "      <td>6113949.0</td>\n",
       "      <td>6297845.00</td>\n",
       "    </tr>\n",
       "  </tbody>\n",
       "</table>\n",
       "</div>"
      ],
      "text/plain": [
       "     date_range_start  date_range_end  raw_visit_count  raw_visitor_count  \\\n",
       "min      1.538352e+09    1.541030e+09             60.0               50.0   \n",
       "25%      1.538352e+09    1.541030e+09          17042.0             3430.0   \n",
       "50%      1.538352e+09    1.541030e+09          30640.0             6541.0   \n",
       "75%      1.538352e+09    1.541030e+09          56678.0            13099.0   \n",
       "max      1.538352e+09    1.541030e+09        7179900.0          6113949.0   \n",
       "\n",
       "     distance_from_home  \n",
       "min              706.00  \n",
       "25%             8584.00  \n",
       "50%            14614.00  \n",
       "75%            31397.75  \n",
       "max          6297845.00  "
      ]
     },
     "execution_count": 15,
     "metadata": {},
     "output_type": "execute_result"
    }
   ],
   "source": [
    "column = csv[numeric]\n",
    "print(f'数值属性的五数概括:')\n",
    "column.describe()[-5:]"
   ]
  },
  {
   "cell_type": "code",
   "execution_count": 16,
   "metadata": {},
   "outputs": [
    {
     "name": "stdout",
     "output_type": "stream",
     "text": [
      "数值属性的缺失值个数:\n"
     ]
    },
    {
     "data": {
      "text/plain": [
       "date_range_start        0\n",
       "date_range_end          0\n",
       "raw_visit_count       106\n",
       "raw_visitor_count     106\n",
       "distance_from_home    217\n",
       "dtype: int64"
      ]
     },
     "execution_count": 16,
     "metadata": {},
     "output_type": "execute_result"
    }
   ],
   "source": [
    "print(f'数值属性的缺失值个数:')\n",
    "column.isnull().sum()"
   ]
  },
  {
   "cell_type": "markdown",
   "metadata": {},
   "source": [
    "## 1.2数据可视化"
   ]
  },
  {
   "cell_type": "code",
   "execution_count": 17,
   "metadata": {},
   "outputs": [
    {
     "data": {
      "text/plain": [
       "Text(-1000000, -70000, 'Fig.1 BoxPlot and Histogram of raw_visitor_count w/o eliminating outliers')"
      ]
     },
     "execution_count": 17,
     "metadata": {},
     "output_type": "execute_result"
    },
    {
     "data": {
      "image/png": "[encoded data removed]",
      "text/plain": [
       "<Figure size 432x288 with 2 Axes>"
      ]
     },
     "metadata": {
      "needs_background": "light"
     },
     "output_type": "display_data"
    }
   ],
   "source": [
    "import matplotlib.pyplot as plt\n",
    "#以属性raw_visitor_count为例，对离群点不做处理\n",
    "to_visulize = 'raw_visitor_count'\n",
    "data_vis = csv[to_visulize].dropna()#去除异常点\n",
    "\n",
    "plt.subplot(211)\n",
    "plt.boxplot(np.array(data_vis),labels=[to_visulize])\n",
    "plt.subplot(212)\n",
    "plt.hist(np.array(data_vis))\n",
    "plt.text(-1000000, -70000, 'Fig.1 BoxPlot and Histogram of raw_visitor_count w/o eliminating outliers',fontsize=13)"
   ]
  },
  {
   "cell_type": "markdown",
   "metadata": {},
   "source": [
    "可以看到由于离群点过多且分布过广，导致盒图和直方图都无法很好地展示出数据的分布细节。"
   ]
  },
  {
   "cell_type": "code",
   "execution_count": 18,
   "metadata": {},
   "outputs": [
    {
     "data": {
      "text/plain": [
       "Text(-500, -15000, 'Fig.2 BoxPlot and Histogram of raw_visitor_count w/ eliminating outliers')"
      ]
     },
     "execution_count": 18,
     "metadata": {},
     "output_type": "execute_result"
    },
    {
     "data": {
      "image/png": "[encoded data removed]",
      "text/plain": [
       "<Figure size 432x288 with 2 Axes>"
      ]
     },
     "metadata": {
      "needs_background": "light"
     },
     "output_type": "display_data"
    }
   ],
   "source": [
    "iqr = data_vis.describe()[-2] - data_vis.describe()[-4]\n",
    "q1, q3 = data_vis.describe()[-2], data_vis.describe()[-4]\n",
    "index = [i<(q3+1.5*iqr) and i>(q1-1.5*iqr) for i in np.array(data_vis)]#去除离群点\n",
    "data_el = data_vis[index]\n",
    "plt.subplot(211)\n",
    "plt.boxplot(np.array(data_el),labels=[to_visulize])\n",
    "plt.subplot(212)\n",
    "plt.hist(np.array(data_el))\n",
    "plt.text(-500, -15000, 'Fig.2 BoxPlot and Histogram of raw_visitor_count w/ eliminating outliers',fontsize=13)"
   ]
  },
  {
   "cell_type": "markdown",
   "metadata": {},
   "source": [
    "可以看到，在去除离群点后，盒图和直方图很好地展示了该属性的分布。"
   ]
  },
  {
   "cell_type": "markdown",
   "metadata": {},
   "source": [
    "# 2. 数据缺失的处理\n",
    "仍选择属性raw_visitor_count为例\n",
    "## 2.1 观察数据集中缺失数据\n",
    "通过对NULL样本的观察，raw_visitor_count与raw_visit_count和distance_from_home常常同时出现，推测可能是由于相应的设置下没有访客或是记录出错。\n",
    "\n",
    "## 2.2 将缺失部分剔除\n",
    "在1.2中的预处理方法即是将缺失部分剔除，不再赘述。\n",
    "## 2.3 用最高频率值来填补缺失值"
   ]
  },
  {
   "cell_type": "code",
   "execution_count": 168,
   "metadata": {},
   "outputs": [
    {
     "name": "stdout",
     "output_type": "stream",
     "text": [
      "mode 2292.0\n"
     ]
    },
    {
     "data": {
      "image/png": "[encoded data removed]",
      "text/plain": [
       "<Figure size 432x288 with 4 Axes>"
      ]
     },
     "metadata": {
      "needs_background": "light"
     },
     "output_type": "display_data"
    }
   ],
   "source": [
    "to_fill = 'raw_visitor_count'\n",
    "mode = csv[to_fill].mode()[0]\n",
    "print('mode', mode)\n",
    "new_data = csv[to_fill].fillna(mode)\n",
    "ind_n = eliminate_outliers(new_data)\n",
    "\n",
    "old_data = csv[to_fill].dropna()\n",
    "ind_o = eliminate_outliers(old_data)\n",
    "plt.subplot(221)\n",
    "plt.hist(new_data)\n",
    "plt.title('highest_freq_fillin_data_raw_visitor_count')\n",
    "plt.subplot(222)\n",
    "plt.hist(old_data)\n",
    "plt.title('original_raw_visitor_count_dropna')\n",
    "plt.subplot(223)\n",
    "plt.boxplot(new_data, labels=[to_fill])\n",
    "plt.title('highest_freq_fillin_data_raw_visitor_count')\n",
    "plt.subplot(224)\n",
    "plt.boxplot(old_data, labels=[to_fill])\n",
    "plt.title('original_raw_visitor_count_dropna')\n",
    "plt.tight_layout()"
   ]
  },
  {
   "cell_type": "markdown",
   "metadata": {},
   "source": [
    "可以看到，原始数据离群点过多、分布过广，导致分布的高密度区域细节差异无法辨认。为解决这个问题，在下面将离群点去除再进行作图。"
   ]
  },
  {
   "cell_type": "code",
   "execution_count": 167,
   "metadata": {},
   "outputs": [
    {
     "name": "stdout",
     "output_type": "stream",
     "text": [
      "mode 2292.0\n"
     ]
    },
    {
     "data": {
      "image/png": "[encoded data removed]",
      "text/plain": [
       "<Figure size 432x288 with 4 Axes>"
      ]
     },
     "metadata": {
      "needs_background": "light"
     },
     "output_type": "display_data"
    }
   ],
   "source": [
    "def eliminate_outliers(i):\n",
    "    iqr = i.describe()[-2] - i.describe()[-4]\n",
    "    q1, q3 = i.describe()[-2], i.describe()[-4]\n",
    "    index = [_<(q3+1.5*iqr) and _>(q1-1.5*iqr) for _ in np.array(i)]#去除离群点\n",
    "    return index\n",
    "    \n",
    "to_fill = 'raw_visitor_count'\n",
    "mode = csv[to_fill].mode()[0]\n",
    "print('mode', mode)\n",
    "new_data = csv[to_fill].fillna(mode)\n",
    "ind_n = eliminate_outliers(new_data)\n",
    "\n",
    "old_data = csv[to_fill].dropna()\n",
    "ind_o = eliminate_outliers(old_data)\n",
    "plt.subplot(221)\n",
    "plt.hist(new_data[ind_n])\n",
    "plt.title('highest_freq_fillin_data_raw_visitor_count')\n",
    "plt.subplot(222)\n",
    "plt.hist(old_data[ind_o])\n",
    "plt.title('original_raw_visitor_count_dropna')\n",
    "plt.subplot(223)\n",
    "plt.boxplot(new_data[ind_n], labels=[to_fill])\n",
    "plt.title('highest_freq_fillin_data_raw_visitor_count')\n",
    "plt.subplot(224)\n",
    "plt.boxplot(old_data[ind_o], labels=[to_fill])\n",
    "plt.title('original_raw_visitor_count_dropna')\n",
    "plt.tight_layout()"
   ]
  },
  {
   "cell_type": "markdown",
   "metadata": {},
   "source": [
    "由于缺失值占数据集规模大小的比例较小，所以仅能在直方图在模态位置附近观察到细微的增长。"
   ]
  },
  {
   "cell_type": "markdown",
   "metadata": {},
   "source": [
    "## 2.4 通过属性的相关关系来填补缺失值\n",
    "设想使用raw_visitor_count属性和distance_from_home属性回归raw_visit_count属性缺失值。\n",
    "但是该数据集raw_visitor_count属性总和其他两个属性同时缺失，而其他数值属性如date_range_start和date_range_end总是不变的常数，标称属性census_block_group又是无意义且独一无二的编码(标称属性)。因此无法通过属性的相关关系来填补raw_visitor_count属性缺失值。\n",
    "## 2.5 通过数据对象之间的相似性来填补缺失值\n",
    "分析类似2.4，有属性缺失的样本的其他属性也为缺失或是无意义无法找到相似关系，通过数据对象之间的相似性来填补缺失值在这个数据集中不可能实现。"
   ]
  },
  {
   "cell_type": "code",
   "execution_count": 20,
   "metadata": {},
   "outputs": [
    {
     "data": {
      "text/plain": [
       "220629   NaN\n",
       "220630   NaN\n",
       "220631   NaN\n",
       "220632   NaN\n",
       "220633   NaN\n",
       "          ..\n",
       "220730   NaN\n",
       "220731   NaN\n",
       "220732   NaN\n",
       "220733   NaN\n",
       "220734   NaN\n",
       "Name: raw_visit_count, Length: 106, dtype: float64"
      ]
     },
     "execution_count": 20,
     "metadata": {},
     "output_type": "execute_result"
    }
   ],
   "source": [
    "index = np.argwhere(np.array(csv['raw_visitor_count'].isna()))\n",
    "index = [_[0] for _ in index]\n",
    "csv['raw_visit_count'][index]"
   ]
  },
  {
   "cell_type": "code",
   "execution_count": 21,
   "metadata": {},
   "outputs": [
    {
     "data": {
      "text/plain": [
       "220629   NaN\n",
       "220630   NaN\n",
       "220631   NaN\n",
       "220632   NaN\n",
       "220633   NaN\n",
       "          ..\n",
       "220730   NaN\n",
       "220731   NaN\n",
       "220732   NaN\n",
       "220733   NaN\n",
       "220734   NaN\n",
       "Name: distance_from_home, Length: 106, dtype: float64"
      ]
     },
     "execution_count": 21,
     "metadata": {},
     "output_type": "execute_result"
    }
   ],
   "source": [
    "csv['distance_from_home'][index]"
   ]
  },
  {
   "cell_type": "markdown",
   "metadata": {},
   "source": [
    "# 二、Wine Reviews 数据集"
   ]
  },
  {
   "cell_type": "code",
   "execution_count": 76,
   "metadata": {},
   "outputs": [
    {
     "data": {
      "text/plain": [
       "Index(['Unnamed: 0', 'country', 'description', 'designation', 'points',\n",
       "       'price', 'province', 'region_1', 'region_2', 'variety', 'winery'],\n",
       "      dtype='object')"
      ]
     },
     "execution_count": 76,
     "metadata": {},
     "output_type": "execute_result"
    }
   ],
   "source": [
    "csv2 = pd.read_csv('/kaggle/input/wine-reviews/winemag-data_first150k.csv')\n",
    "csv3 = pd.read_csv('/kaggle/input/wine-reviews/winemag-data-130k-v2.csv')\n",
    "csv2.columns"
   ]
  },
  {
   "cell_type": "markdown",
   "metadata": {},
   "source": [
    "标称属性为：'country', 'description', 'designation', 'province', 'region_1', 'region_2', 'variety', 'winery'\n",
    "       \n",
    "数值属性为：'points','price'"
   ]
  },
  {
   "cell_type": "code",
   "execution_count": 23,
   "metadata": {},
   "outputs": [],
   "source": [
    "nominal = ['country', 'description', 'designation', 'province', 'region_1', 'region_2', 'variety', 'winery']\n",
    "numeric = ['points','price']"
   ]
  },
  {
   "cell_type": "markdown",
   "metadata": {},
   "source": [
    "# 1. 数据可视化和摘要\n",
    "## 1.1 数据摘要\n",
    "* 标称数据"
   ]
  },
  {
   "cell_type": "code",
   "execution_count": 24,
   "metadata": {},
   "outputs": [
    {
     "name": "stdout",
     "output_type": "stream",
     "text": [
      "属性country可能取值的频数:\n"
     ]
    },
    {
     "data": {
      "text/plain": [
       "US                        62397\n",
       "Italy                     23478\n",
       "France                    21098\n",
       "Spain                      8268\n",
       "Chile                      5816\n",
       "Argentina                  5631\n",
       "Portugal                   5322\n",
       "Australia                  4957\n",
       "New Zealand                3320\n",
       "Austria                    3057\n",
       "Germany                    2452\n",
       "South Africa               2258\n",
       "Greece                      884\n",
       "Israel                      630\n",
       "Hungary                     231\n",
       "Canada                      196\n",
       "Romania                     139\n",
       "Slovenia                     94\n",
       "Uruguay                      92\n",
       "Croatia                      89\n",
       "Bulgaria                     77\n",
       "Moldova                      71\n",
       "Mexico                       63\n",
       "Turkey                       52\n",
       "Georgia                      43\n",
       "Lebanon                      37\n",
       "Cyprus                       31\n",
       "Brazil                       25\n",
       "Macedonia                    16\n",
       "Serbia                       14\n",
       "Morocco                      12\n",
       "England                       9\n",
       "Luxembourg                    9\n",
       "Lithuania                     8\n",
       "India                         8\n",
       "Czech Republic                6\n",
       "Ukraine                       5\n",
       "Bosnia and Herzegovina        4\n",
       "South Korea                   4\n",
       "Switzerland                   4\n",
       "Slovakia                      3\n",
       "China                         3\n",
       "Egypt                         3\n",
       "Albania                       2\n",
       "Tunisia                       2\n",
       "Montenegro                    2\n",
       "Japan                         2\n",
       "US-France                     1\n",
       "Name: country, dtype: int64"
      ]
     },
     "execution_count": 24,
     "metadata": {},
     "output_type": "execute_result"
    }
   ],
   "source": [
    "attr = 'country' #设置展示的属性\n",
    "column = csv2[attr]\n",
    "print(f'属性{attr}可能取值的频数:')\n",
    "column.value_counts()"
   ]
  },
  {
   "cell_type": "code",
   "execution_count": 25,
   "metadata": {},
   "outputs": [
    {
     "data": {
      "text/plain": [
       "Text(0.5, 1.0, 'top10 values')"
      ]
     },
     "execution_count": 25,
     "metadata": {},
     "output_type": "execute_result"
    },
    {
     "data": {
      "image/png": "[encoded data removed]",
      "text/plain": [
       "<Figure size 432x288 with 1 Axes>"
      ]
     },
     "metadata": {
      "needs_background": "light"
     },
     "output_type": "display_data"
    }
   ],
   "source": [
    "import matplotlib.pyplot as plt\n",
    "#取前10高频数的取值展示为条形图\n",
    "ax = column.value_counts().head(10).plot.barh()\n",
    "plt.title('top10 values')"
   ]
  },
  {
   "cell_type": "markdown",
   "metadata": {},
   "source": [
    "* 数值数据"
   ]
  },
  {
   "cell_type": "code",
   "execution_count": 26,
   "metadata": {},
   "outputs": [
    {
     "name": "stdout",
     "output_type": "stream",
     "text": [
      "数值属性的五数概括:\n"
     ]
    },
    {
     "data": {
      "text/html": [
       "<div>\n",
       "<style scoped>\n",
       "    .dataframe tbody tr th:only-of-type {\n",
       "        vertical-align: middle;\n",
       "    }\n",
       "\n",
       "    .dataframe tbody tr th {\n",
       "        vertical-align: top;\n",
       "    }\n",
       "\n",
       "    .dataframe thead th {\n",
       "        text-align: right;\n",
       "    }\n",
       "</style>\n",
       "<table border=\"1\" class=\"dataframe\">\n",
       "  <thead>\n",
       "    <tr style=\"text-align: right;\">\n",
       "      <th></th>\n",
       "      <th>points</th>\n",
       "      <th>price</th>\n",
       "    </tr>\n",
       "  </thead>\n",
       "  <tbody>\n",
       "    <tr>\n",
       "      <th>min</th>\n",
       "      <td>80.0</td>\n",
       "      <td>4.0</td>\n",
       "    </tr>\n",
       "    <tr>\n",
       "      <th>25%</th>\n",
       "      <td>86.0</td>\n",
       "      <td>16.0</td>\n",
       "    </tr>\n",
       "    <tr>\n",
       "      <th>50%</th>\n",
       "      <td>88.0</td>\n",
       "      <td>24.0</td>\n",
       "    </tr>\n",
       "    <tr>\n",
       "      <th>75%</th>\n",
       "      <td>90.0</td>\n",
       "      <td>40.0</td>\n",
       "    </tr>\n",
       "    <tr>\n",
       "      <th>max</th>\n",
       "      <td>100.0</td>\n",
       "      <td>2300.0</td>\n",
       "    </tr>\n",
       "  </tbody>\n",
       "</table>\n",
       "</div>"
      ],
      "text/plain": [
       "     points   price\n",
       "min    80.0     4.0\n",
       "25%    86.0    16.0\n",
       "50%    88.0    24.0\n",
       "75%    90.0    40.0\n",
       "max   100.0  2300.0"
      ]
     },
     "execution_count": 26,
     "metadata": {},
     "output_type": "execute_result"
    }
   ],
   "source": [
    "column = csv2[numeric]\n",
    "print(f'数值属性的五数概括:')\n",
    "column.describe()[-5:]"
   ]
  },
  {
   "cell_type": "code",
   "execution_count": 27,
   "metadata": {},
   "outputs": [
    {
     "name": "stdout",
     "output_type": "stream",
     "text": [
      "数值属性的缺失值个数:\n",
      "points        0\n",
      "price     13695\n",
      "dtype: int64\n"
     ]
    }
   ],
   "source": [
    "print(f'数值属性的缺失值个数:')\n",
    "print(column.isnull().sum())"
   ]
  },
  {
   "cell_type": "code",
   "execution_count": 28,
   "metadata": {},
   "outputs": [
    {
     "data": {
      "text/plain": [
       "Text(82, -10000, 'Fig.1 BoxPlot and Histogram of points')"
      ]
     },
     "execution_count": 28,
     "metadata": {},
     "output_type": "execute_result"
    },
    {
     "data": {
      "image/png": "[encoded data removed]",
      "text/plain": [
       "<Figure size 432x288 with 2 Axes>"
      ]
     },
     "metadata": {
      "needs_background": "light"
     },
     "output_type": "display_data"
    }
   ],
   "source": [
    "import matplotlib.pyplot as plt\n",
    "#以属性points为例，对离群点不做处理\n",
    "to_visulize = 'points'\n",
    "data_vis = csv2[to_visulize].dropna()#去除异常点\n",
    "\n",
    "plt.subplot(211)\n",
    "plt.boxplot(np.array(data_vis),labels=[to_visulize])\n",
    "plt.subplot(212)\n",
    "plt.hist(np.array(data_vis))\n",
    "plt.text(82, -10000, 'Fig.1 BoxPlot and Histogram of points',fontsize=13)"
   ]
  },
  {
   "cell_type": "code",
   "execution_count": 29,
   "metadata": {},
   "outputs": [
    {
     "data": {
      "text/plain": [
       "Text(82, -50000, 'Fig.1 BoxPlot and Histogram of price')"
      ]
     },
     "execution_count": 29,
     "metadata": {},
     "output_type": "execute_result"
    },
    {
     "data": {
      "image/png": "[encoded data removed]",
      "text/plain": [
       "<Figure size 432x288 with 2 Axes>"
      ]
     },
     "metadata": {
      "needs_background": "light"
     },
     "output_type": "display_data"
    }
   ],
   "source": [
    "#以属性price为例，对离群点不做处理\n",
    "to_visulize = 'price'\n",
    "data_vis = csv2[to_visulize].dropna()#去除异常点\n",
    "\n",
    "plt.subplot(211)\n",
    "plt.boxplot(np.array(data_vis),labels=[to_visulize])\n",
    "plt.subplot(212)\n",
    "plt.hist(np.array(data_vis))\n",
    "plt.text(82, -50000, 'Fig.1 BoxPlot and Histogram of price',fontsize=13)"
   ]
  },
  {
   "cell_type": "markdown",
   "metadata": {},
   "source": [
    "可以看到points属性的展示效果较好，而price属性由于较多的离群点盒图、直方图展示效果很差，因此接下来进行离群点的消除后再次展示price属性。"
   ]
  },
  {
   "cell_type": "code",
   "execution_count": 30,
   "metadata": {},
   "outputs": [
    {
     "data": {
      "text/plain": [
       "Text(0, -7000, 'Fig.1 BoxPlot and Histogram of price w/ eliminating outliers')"
      ]
     },
     "execution_count": 30,
     "metadata": {},
     "output_type": "execute_result"
    },
    {
     "data": {
      "image/png": "[encoded data removed]",
      "text/plain": [
       "<Figure size 432x288 with 2 Axes>"
      ]
     },
     "metadata": {
      "needs_background": "light"
     },
     "output_type": "display_data"
    }
   ],
   "source": [
    "def eliminate_outliers(i):\n",
    "    iqr = i.describe()[-2] - i.describe()[-4]\n",
    "    q1, q3 = i.describe()[-2], i.describe()[-4]\n",
    "    index = [_<(q3+1.5*iqr) and _>(q1-1.5*iqr) for _ in np.array(i)]#去除离群点\n",
    "    return index\n",
    "\n",
    "to_visulize = 'price'\n",
    "data_vis = csv2[to_visulize].dropna()#去除异常点\n",
    "\n",
    "ind = eliminate_outliers(data_vis)#去除离群点\n",
    "plt.subplot(211)\n",
    "plt.boxplot(np.array(data_vis[ind]),labels=[to_visulize])\n",
    "plt.subplot(212)\n",
    "plt.hist(np.array(data_vis[ind]))\n",
    "plt.text(0, -7000, 'Fig.1 BoxPlot and Histogram of price w/ eliminating outliers',fontsize=13)"
   ]
  },
  {
   "cell_type": "markdown",
   "metadata": {},
   "source": [
    "# 2. 数据缺失的处理\n",
    "选择属性price为例,共缺失13695次。\n",
    "## 2.1 观察数据集中缺失数据\n",
    "通过对属性缺失样本的观察，没有发现price属性为NULL的直接规律，推测原因可能是记录出错。\n",
    "## 2.2 将缺失部分剔除\n",
    "在1.2中的预处理方法即是将缺失部分剔除，不再赘述。\n",
    "## 2.3 用最高频率值来填补缺失值"
   ]
  },
  {
   "cell_type": "code",
   "execution_count": 164,
   "metadata": {},
   "outputs": [
    {
     "name": "stdout",
     "output_type": "stream",
     "text": [
      "mode 20.0\n"
     ]
    },
    {
     "data": {
      "image/png": "[encoded data removed]",
      "text/plain": [
       "<Figure size 432x288 with 4 Axes>"
      ]
     },
     "metadata": {
      "needs_background": "light"
     },
     "output_type": "display_data"
    }
   ],
   "source": [
    "to_fill = 'price'\n",
    "mode = csv2[to_fill].mode()[0]\n",
    "print('mode', mode)\n",
    "new_data = csv2[to_fill].fillna(mode)\n",
    "ind_n = eliminate_outliers(new_data)\n",
    "\n",
    "old_data = csv2[to_fill].dropna()\n",
    "ind_o = eliminate_outliers(old_data)\n",
    "plt.subplot(221)\n",
    "plt.hist(new_data)\n",
    "plt.title('highest_freq_fillin_price')\n",
    "plt.subplot(222)\n",
    "plt.hist(old_data)\n",
    "plt.title('original_price_dropna')\n",
    "plt.subplot(223)\n",
    "plt.boxplot(new_data, labels=[to_fill])\n",
    "plt.title('highest_freq_fillin_price')\n",
    "plt.subplot(224)\n",
    "plt.boxplot(old_data, labels=[to_fill])\n",
    "plt.title('original_price_dropna')\n",
    "plt.tight_layout()"
   ]
  },
  {
   "cell_type": "markdown",
   "metadata": {},
   "source": [
    "可以看到，离群点过多、过远，导致分布的细节淹没了。"
   ]
  },
  {
   "cell_type": "code",
   "execution_count": 163,
   "metadata": {},
   "outputs": [
    {
     "name": "stdout",
     "output_type": "stream",
     "text": [
      "mode 20.0\n"
     ]
    },
    {
     "data": {
      "image/png": "[encoded data removed]",
      "text/plain": [
       "<Figure size 432x288 with 4 Axes>"
      ]
     },
     "metadata": {
      "needs_background": "light"
     },
     "output_type": "display_data"
    }
   ],
   "source": [
    "to_fill = 'price'\n",
    "mode = csv2[to_fill].mode()[0]\n",
    "print('mode', mode)\n",
    "new_data = csv2[to_fill].fillna(mode)\n",
    "ind_n = eliminate_outliers(new_data)\n",
    "\n",
    "old_data = csv2[to_fill].dropna()\n",
    "ind_o = eliminate_outliers(old_data)\n",
    "plt.subplot(221)\n",
    "plt.hist(new_data[ind_n])\n",
    "plt.title('highest_freq_fillin_price')\n",
    "plt.subplot(222)\n",
    "plt.hist(old_data[ind_o])\n",
    "plt.title('original_price_dropna')\n",
    "plt.subplot(223)\n",
    "plt.boxplot(new_data[ind_n], labels=[to_fill])\n",
    "plt.title('highest_freq_fillin_price')\n",
    "plt.subplot(224)\n",
    "plt.boxplot(old_data[ind_o], labels=[to_fill])\n",
    "plt.title('original_price_dropna')\n",
    "plt.tight_layout()"
   ]
  },
  {
   "cell_type": "markdown",
   "metadata": {},
   "source": [
    "在直方图中我们能观察到填充后明显的变化，数据在模态所在的20附近的取值明显增多。"
   ]
  },
  {
   "cell_type": "markdown",
   "metadata": {},
   "source": [
    "## 2.4 通过属性的相关关系来填补缺失值\n",
    "设想使用points属性回归price属性缺失值。"
   ]
  },
  {
   "cell_type": "code",
   "execution_count": 32,
   "metadata": {},
   "outputs": [],
   "source": [
    "valid_ind = np.argwhere(np.array(csv2['price'].isna()) == False)\n",
    "missing_ind = np.argwhere(np.array(csv2['price'].isna()) == True)\n",
    "missing_ind = [_[0] for _ in missing_ind]\n",
    "valid_ind = [_[0] for _ in valid_ind]\n",
    "#print(valid_ind)\n",
    "data = [[csv2['points'][i],csv2['price'][i]] for i in valid_ind]\n",
    "#print(csv2['points'][0])\n",
    "dataMat = np.array(data)\n",
    "X = dataMat[:,0:1]   # 变量x\n",
    "y = dataMat[:,1]   #变量y\n",
    "X_pre = np.array([csv2['points'][i] for i in missing_ind])\n",
    "X_pre = X_pre.reshape(-1, 1)"
   ]
  },
  {
   "cell_type": "code",
   "execution_count": 36,
   "metadata": {},
   "outputs": [
    {
     "name": "stdout",
     "output_type": "stream",
     "text": [
      "系数矩阵:\n",
      " [5.18468773]\n",
      "线性回归模型:\n",
      " LinearRegression(copy_X=True, fit_intercept=True, n_jobs=1, normalize=False)\n"
     ]
    },
    {
     "data": {
      "text/plain": [
       "Text(0.5, 1.0, 'linear regression')"
      ]
     },
     "execution_count": 36,
     "metadata": {},
     "output_type": "execute_result"
    },
    {
     "data": {
      "image/png": "[encoded data removed]",
      "text/plain": [
       "<Figure size 432x288 with 1 Axes>"
      ]
     },
     "metadata": {
      "needs_background": "light"
     },
     "output_type": "display_data"
    }
   ],
   "source": [
    "from sklearn.linear_model import LinearRegression\n",
    "model = LinearRegression(copy_X=True, fit_intercept=True, n_jobs=1, normalize=False)\n",
    "model.fit(X, y)   # 线性回归建模\n",
    "print('系数矩阵:\\n',model.coef_)\n",
    "print('线性回归模型:\\n',model)\n",
    "predicted = model.predict(X_pre)\n",
    "p = model.predict(X)\n",
    "plt.scatter(X, y, marker='x')\n",
    "plt.plot(X, p,c='r')\n",
    "plt.xlabel(\"points\")\n",
    "plt.ylabel(\"price\")\n",
    "plt.title('linear regression')"
   ]
  },
  {
   "cell_type": "markdown",
   "metadata": {},
   "source": [
    "从上图观察到，拟合并不理想，原因是points属性包含的信息量不足，然而在数据集中其他标称数据维度太高难以利用来进行线性回归，所以这个一元线性回归模型已经是较合理的回归模型了。"
   ]
  },
  {
   "cell_type": "code",
   "execution_count": 161,
   "metadata": {},
   "outputs": [
    {
     "data": {
      "image/png": "[encoded data removed]",
      "text/plain": [
       "<Figure size 432x288 with 4 Axes>"
      ]
     },
     "metadata": {
      "needs_background": "light"
     },
     "output_type": "display_data"
    }
   ],
   "source": [
    "to_fill = 'price'\n",
    "price = copy.deepcopy(csv2[to_fill])\n",
    "points = csv2['points']\n",
    "for i in missing_ind:\n",
    "    price[i] = model.predict(np.array(points[i]).reshape(1,1))\n",
    "\n",
    "new_data = price\n",
    "#ind_n = eliminate_outliers(new_data)\n",
    "\n",
    "old_data = csv2[to_fill].dropna()\n",
    "#ind_o = eliminate_outliers(old_data)\n",
    "plt.subplot(221)\n",
    "plt.boxplot(new_data, labels=[to_fill])\n",
    "plt.title('highest_freq_fillin_price')\n",
    "plt.subplot(222)\n",
    "plt.boxplot(old_data, labels=[to_fill])\n",
    "plt.title('original_price_dropna')\n",
    "plt.subplot(223)\n",
    "plt.hist(new_data)\n",
    "plt.title('highest_freq_fillin_price')\n",
    "plt.subplot(224)\n",
    "plt.hist(old_data)\n",
    "plt.title('original_price_dropna')\n",
    "plt.tight_layout()"
   ]
  },
  {
   "cell_type": "markdown",
   "metadata": {},
   "source": [
    "可以从上图看到，未经去除离群点的price属性，因为分布跨度太大而难以分辨分布之间的区别。"
   ]
  },
  {
   "cell_type": "code",
   "execution_count": 160,
   "metadata": {},
   "outputs": [
    {
     "data": {
      "image/png": "[encoded data removed]",
      "text/plain": [
       "<Figure size 432x288 with 4 Axes>"
      ]
     },
     "metadata": {
      "needs_background": "light"
     },
     "output_type": "display_data"
    }
   ],
   "source": [
    "import copy\n",
    "to_fill = 'price'\n",
    "price = copy.deepcopy(csv2[to_fill])\n",
    "points = csv2['points']\n",
    "for i in missing_ind:\n",
    "    price[i] = model.predict(np.array(points[i]).reshape(1,1))\n",
    "\n",
    "new_data = price\n",
    "ind_n = eliminate_outliers(new_data)\n",
    "\n",
    "old_data = csv2[to_fill].dropna()\n",
    "ind_o = eliminate_outliers(old_data)\n",
    "plt.subplot(221)\n",
    "plt.boxplot(new_data[ind_n], labels=[to_fill])\n",
    "plt.title('highest_freq_fillin_price')\n",
    "plt.subplot(222)\n",
    "plt.boxplot(old_data[ind_o], labels=[to_fill])\n",
    "plt.title('original_price_dropna')\n",
    "\n",
    "old_data = csv2[to_fill].dropna()\n",
    "ind_o = eliminate_outliers(old_data)\n",
    "plt.subplot(223)\n",
    "plt.hist(new_data[ind_n])\n",
    "plt.title('highest_freq_fillin_price')\n",
    "plt.subplot(224)\n",
    "plt.hist(old_data[ind_o])\n",
    "plt.title('original_price_dropna')\n",
    "plt.tight_layout() "
   ]
  },
  {
   "cell_type": "markdown",
   "metadata": {},
   "source": [
    "在去除离群点后，可以看到使用回归后的price属性值填充缺失值，使得Q3和中位数有不同程度的增大。从直方图中可以看出位于大于20区域的price属性值明显增多。"
   ]
  },
  {
   "cell_type": "markdown",
   "metadata": {},
   "source": [
    "## 2.5 通过数据对象之间的相似性来填补缺失值\n",
    "通过对数据集各个属性的观察，选取维度较小（取值范围小）、信息量大（该属性值方差大）的三个标称属性'country'、'province'、'variety',以及数值属性'points'作为相似性度量的输入。\n",
    "具体地，各个标称属性被表示为独热向量，数值属性被归一化至0到1的区间后与三个代表标称属性的独热向量串联起来组成一个样本的特征表示，样本之间的余弦相似度被视作样本之间的相似度。\n"
   ]
  },
  {
   "cell_type": "code",
   "execution_count": 138,
   "metadata": {},
   "outputs": [],
   "source": [
    "from sklearn.preprocessing import LabelEncoder\n",
    "from sklearn.preprocessing import OneHotEncoder\n",
    "def ret_onehot(attr):\n",
    "    a = copy.deepcopy(csv2[attr])\n",
    "    if a.isna().sum():\n",
    "        a = a.fillna(a.mode()[0])\n",
    "    #print(a.isna().sum())\n",
    "    encoder = LabelEncoder()  \n",
    "    cat = encoder.fit_transform(a.values)\n",
    "    cat = np.array(cat)\n",
    "\n",
    "    enc = OneHotEncoder()\n",
    "    a=enc.fit_transform(cat.reshape(-1,1))\n",
    "    a=a.toarray()\n",
    "    return a\n",
    "\n",
    "def cos_dist(x,y):\n",
    "    return 1 - np.dot(x,y)/(np.linalg.norm(x)*np.linalg.norm(y))\n"
   ]
  },
  {
   "cell_type": "code",
   "execution_count": 148,
   "metadata": {},
   "outputs": [],
   "source": [
    "from tqdm import tqdm\n",
    "to_fill = 'price'\n",
    "price = copy.deepcopy(csv2[to_fill])\n",
    "points = csv2['points']\n",
    "points = points / points.describe()[-1] # 归一化\n",
    "points = np.array(points).reshape(-1,1)\n",
    "country = ret_onehot('country')\n",
    "province = ret_onehot('province')\n",
    "variety = ret_onehot('variety')\n",
    "\n",
    "feature = np.concatenate([points,country,province,variety],axis=-1)\n",
    "\n",
    "sample_rate = 0.005\n",
    "leng = len(points)\n",
    "for i in missing_ind:\n",
    "    summ = 0\n",
    "    for j in valid_ind[::int(1//sample_rate)]:\n",
    "        S = cos_dist(feature[i], feature[j])\n",
    "        summ += S*price[j]\n",
    "    price[i] = summ/leng/sample_rate"
   ]
  },
  {
   "cell_type": "code",
   "execution_count": 153,
   "metadata": {},
   "outputs": [
    {
     "data": {
      "image/png": "[encoded data removed]",
      "text/plain": [
       "<Figure size 432x288 with 4 Axes>"
      ]
     },
     "metadata": {
      "needs_background": "light"
     },
     "output_type": "display_data"
    }
   ],
   "source": [
    "new_data = price\n",
    "#ind_n = eliminate_outliers(new_data)\n",
    "\n",
    "old_data = csv2[to_fill].dropna()\n",
    "#ind_o = eliminate_outliers(old_data)\n",
    "plt.subplot(221)\n",
    "plt.hist(new_data)\n",
    "plt.title('highest_freq_fillin_price')\n",
    "plt.subplot(222)\n",
    "plt.hist(old_data)\n",
    "plt.title('original_price_dropna')\n",
    "plt.subplot(223)\n",
    "plt.boxplot(new_data, labels=['price'])\n",
    "plt.title('highest_freq_fillin_price')\n",
    "plt.subplot(224)\n",
    "plt.boxplot(old_data, labels=['price'])\n",
    "plt.title('original_price_dropna')\n",
    "plt.tight_layout() "
   ]
  },
  {
   "cell_type": "markdown",
   "metadata": {},
   "source": [
    "可以看到，在不做离群点剔除的情况下，无论是直方图还是盒图都难以解析数据集的细节，因此去除离群点后再分析是更好的选择，如下。"
   ]
  },
  {
   "cell_type": "code",
   "execution_count": 154,
   "metadata": {},
   "outputs": [
    {
     "data": {
      "image/png": "[encoded data removed]",
      "text/plain": [
       "<Figure size 432x288 with 4 Axes>"
      ]
     },
     "metadata": {
      "needs_background": "light"
     },
     "output_type": "display_data"
    }
   ],
   "source": [
    "new_data = price\n",
    "ind_n = eliminate_outliers(new_data)\n",
    "\n",
    "old_data = csv2[to_fill].dropna()\n",
    "ind_o = eliminate_outliers(old_data)\n",
    "plt.subplot(221)\n",
    "plt.hist(new_data[ind_n])\n",
    "plt.title('highest_freq_fillin_price')\n",
    "plt.subplot(222)\n",
    "plt.hist(old_data[ind_o])\n",
    "plt.title('original_price_dropna')\n",
    "plt.subplot(223)\n",
    "plt.boxplot(new_data[ind_n], labels=['price'])\n",
    "plt.title('highest_freq_fillin_price')\n",
    "plt.subplot(224)\n",
    "plt.boxplot(old_data[ind_o], labels=['price'])\n",
    "plt.title('original_price_dropna')\n",
    "plt.tight_layout() "
   ]
  },
  {
   "cell_type": "markdown",
   "metadata": {},
   "source": [
    "上图为去除离群点后的盒图与直方图在填充price属性前后的对比。"
   ]
  },
  {
   "cell_type": "markdown",
   "metadata": {},
   "source": []
  }
 ],
 "metadata": {
  "kernelspec": {
   "display_name": "Python 3",
   "language": "python",
   "name": "python3"
  },
  "language_info": {
   "codemirror_mode": {
    "name": "ipython",
    "version": 3
   },
   "file_extension": ".py",
   "mimetype": "text/x-python",
   "name": "python",
   "nbconvert_exporter": "python",
   "pygments_lexer": "ipython3",
   "version": "3.7.4"
  }
 },
 "nbformat": 4,
 "nbformat_minor": 4
}
