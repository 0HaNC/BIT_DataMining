{
 "cells": [
  {
   "cell_type": "markdown",
   "metadata": {},
   "source": [
    "# 互评作业2: 频繁模式与关联规则挖掘"
   ]
  },
  {
   "cell_type": "code",
   "execution_count": 2,
   "metadata": {},
   "outputs": [],
   "source": [
    "from scipy.stats import chi2_contingency\n",
    "from akapriori import apriori\n",
    "import numpy as np \n",
    "import pandas as pd "
   ]
  },
  {
   "cell_type": "code",
   "execution_count": 3,
   "metadata": {
    "_cell_guid": "79c7e3d0-c299-4dcb-8224-4455121ee9b0",
    "_uuid": "d629ff2d2480ee46fbb7e2d37f6b5fab8052498a"
   },
   "outputs": [
    {
     "data": {
      "text/html": [
       "<div>\n",
       "<style scoped>\n",
       "    .dataframe tbody tr th:only-of-type {\n",
       "        vertical-align: middle;\n",
       "    }\n",
       "\n",
       "    .dataframe tbody tr th {\n",
       "        vertical-align: top;\n",
       "    }\n",
       "\n",
       "    .dataframe thead th {\n",
       "        text-align: right;\n",
       "    }\n",
       "</style>\n",
       "<table border=\"1\" class=\"dataframe\">\n",
       "  <thead>\n",
       "    <tr style=\"text-align: right;\">\n",
       "      <th></th>\n",
       "      <th>Unnamed: 0</th>\n",
       "      <th>country</th>\n",
       "      <th>description</th>\n",
       "      <th>designation</th>\n",
       "      <th>points</th>\n",
       "      <th>price</th>\n",
       "      <th>province</th>\n",
       "      <th>region_1</th>\n",
       "      <th>region_2</th>\n",
       "      <th>taster_name</th>\n",
       "      <th>taster_twitter_handle</th>\n",
       "      <th>title</th>\n",
       "      <th>variety</th>\n",
       "      <th>winery</th>\n",
       "    </tr>\n",
       "  </thead>\n",
       "  <tbody>\n",
       "    <tr>\n",
       "      <th>4</th>\n",
       "      <td>4</td>\n",
       "      <td>US</td>\n",
       "      <td>Much like the regular bottling from 2012, this...</td>\n",
       "      <td>Vintner's Reserve Wild Child Block</td>\n",
       "      <td>87</td>\n",
       "      <td>65.0</td>\n",
       "      <td>Oregon</td>\n",
       "      <td>Willamette Valley</td>\n",
       "      <td>Willamette Valley</td>\n",
       "      <td>Paul Gregutt</td>\n",
       "      <td>@paulgwine</td>\n",
       "      <td>Sweet Cheeks 2012 Vintner's Reserve Wild Child...</td>\n",
       "      <td>Pinot Noir</td>\n",
       "      <td>Sweet Cheeks</td>\n",
       "    </tr>\n",
       "    <tr>\n",
       "      <th>10</th>\n",
       "      <td>10</td>\n",
       "      <td>US</td>\n",
       "      <td>Soft, supple plum envelopes an oaky structure ...</td>\n",
       "      <td>Mountain Cuvée</td>\n",
       "      <td>87</td>\n",
       "      <td>19.0</td>\n",
       "      <td>California</td>\n",
       "      <td>Napa Valley</td>\n",
       "      <td>Napa</td>\n",
       "      <td>Virginie Boone</td>\n",
       "      <td>@vboone</td>\n",
       "      <td>Kirkland Signature 2011 Mountain Cuvée Caberne...</td>\n",
       "      <td>Cabernet Sauvignon</td>\n",
       "      <td>Kirkland Signature</td>\n",
       "    </tr>\n",
       "  </tbody>\n",
       "</table>\n",
       "</div>"
      ],
      "text/plain": [
       "    Unnamed: 0 country                                        description  \\\n",
       "4            4      US  Much like the regular bottling from 2012, this...   \n",
       "10          10      US  Soft, supple plum envelopes an oaky structure ...   \n",
       "\n",
       "                           designation  points  price    province  \\\n",
       "4   Vintner's Reserve Wild Child Block      87   65.0      Oregon   \n",
       "10                      Mountain Cuvée      87   19.0  California   \n",
       "\n",
       "             region_1           region_2     taster_name  \\\n",
       "4   Willamette Valley  Willamette Valley    Paul Gregutt   \n",
       "10        Napa Valley               Napa  Virginie Boone   \n",
       "\n",
       "   taster_twitter_handle                                              title  \\\n",
       "4            @paulgwine   Sweet Cheeks 2012 Vintner's Reserve Wild Child...   \n",
       "10               @vboone  Kirkland Signature 2011 Mountain Cuvée Caberne...   \n",
       "\n",
       "               variety              winery  \n",
       "4           Pinot Noir        Sweet Cheeks  \n",
       "10  Cabernet Sauvignon  Kirkland Signature  "
      ]
     },
     "execution_count": 3,
     "metadata": {},
     "output_type": "execute_result"
    }
   ],
   "source": [
    "csv = pd.read_csv('/kaggle/input/wine-reviews/winemag-data-130k-v2.csv')\n",
    "df =csv.dropna()\n",
    "df.head(2)"
   ]
  },
  {
   "cell_type": "markdown",
   "metadata": {},
   "source": [
    "## 一、数据集预处理\n",
    "选取points、price、country、winery这两种数值属性和标称属性。  \n",
    "### 1、对数值属性points和price概念分层(离散化)。"
   ]
  },
  {
   "cell_type": "code",
   "execution_count": 4,
   "metadata": {},
   "outputs": [
    {
     "data": {
      "text/html": [
       "<div>\n",
       "<style scoped>\n",
       "    .dataframe tbody tr th:only-of-type {\n",
       "        vertical-align: middle;\n",
       "    }\n",
       "\n",
       "    .dataframe tbody tr th {\n",
       "        vertical-align: top;\n",
       "    }\n",
       "\n",
       "    .dataframe thead th {\n",
       "        text-align: right;\n",
       "    }\n",
       "</style>\n",
       "<table border=\"1\" class=\"dataframe\">\n",
       "  <thead>\n",
       "    <tr style=\"text-align: right;\">\n",
       "      <th></th>\n",
       "      <th>points</th>\n",
       "      <th>price</th>\n",
       "    </tr>\n",
       "  </thead>\n",
       "  <tbody>\n",
       "    <tr>\n",
       "      <th>min</th>\n",
       "      <td>80.0</td>\n",
       "      <td>4.0</td>\n",
       "    </tr>\n",
       "    <tr>\n",
       "      <th>25%</th>\n",
       "      <td>88.0</td>\n",
       "      <td>25.0</td>\n",
       "    </tr>\n",
       "    <tr>\n",
       "      <th>50%</th>\n",
       "      <td>90.0</td>\n",
       "      <td>36.0</td>\n",
       "    </tr>\n",
       "    <tr>\n",
       "      <th>75%</th>\n",
       "      <td>92.0</td>\n",
       "      <td>50.0</td>\n",
       "    </tr>\n",
       "    <tr>\n",
       "      <th>max</th>\n",
       "      <td>100.0</td>\n",
       "      <td>2013.0</td>\n",
       "    </tr>\n",
       "  </tbody>\n",
       "</table>\n",
       "</div>"
      ],
      "text/plain": [
       "     points   price\n",
       "min    80.0     4.0\n",
       "25%    88.0    25.0\n",
       "50%    90.0    36.0\n",
       "75%    92.0    50.0\n",
       "max   100.0  2013.0"
      ]
     },
     "execution_count": 4,
     "metadata": {},
     "output_type": "execute_result"
    }
   ],
   "source": [
    "numeric = ['points', 'price']\n",
    "df2 = df[numeric]\n",
    "df2 = df2.loc[:,~df2.columns.str.contains('^Unnamed')]\n",
    "df2.describe()[-5:]"
   ]
  },
  {
   "cell_type": "markdown",
   "metadata": {},
   "source": [
    "以points和price属性的五数分布为依据，将points和price属性的{x|x<q1}、{x|q1<x<q3}和{x|x>q4}分别离散化为3个取值——{高分，中分，低分}和{高价，平价，低价}。"
   ]
  },
  {
   "cell_type": "code",
   "execution_count": 5,
   "metadata": {},
   "outputs": [
    {
     "name": "stderr",
     "output_type": "stream",
     "text": [
      "/opt/conda/lib/python3.7/site-packages/pandas/core/indexing.py:966: SettingWithCopyWarning: \n",
      "A value is trying to be set on a copy of a slice from a DataFrame.\n",
      "Try using .loc[row_indexer,col_indexer] = value instead\n",
      "\n",
      "See the caveats in the documentation: https://pandas.pydata.org/pandas-docs/stable/user_guide/indexing.html#returning-a-view-versus-a-copy\n",
      "  self.obj[item] = s\n"
     ]
    }
   ],
   "source": [
    "interval1 = [0,80,90,92,101]\n",
    "interval2 = [0,25,36,50,2014]\n",
    "df.loc[:,'points'] = pd.cut(df2.points, interval1,labels=['lowP','midP1','midP2','highP'])\n",
    "df.loc[:,'price'] = pd.cut(df2.price, interval2,labels=['lowC','midC1','midC2','highC'])"
   ]
  },
  {
   "cell_type": "code",
   "execution_count": 6,
   "metadata": {},
   "outputs": [
    {
     "data": {
      "text/plain": [
       "4     midP1\n",
       "10    midP1\n",
       "Name: points, dtype: category\n",
       "Categories (4, object): [lowP < midP1 < midP2 < highP]"
      ]
     },
     "execution_count": 6,
     "metadata": {},
     "output_type": "execute_result"
    }
   ],
   "source": [
    "df['points'][:2]"
   ]
  },
  {
   "cell_type": "code",
   "execution_count": 7,
   "metadata": {},
   "outputs": [
    {
     "data": {
      "text/plain": [
       "4     highC\n",
       "10     lowC\n",
       "Name: price, dtype: category\n",
       "Categories (4, object): [lowC < midC1 < midC2 < highC]"
      ]
     },
     "execution_count": 7,
     "metadata": {},
     "output_type": "execute_result"
    }
   ],
   "source": [
    "df['price'][:2]"
   ]
  },
  {
   "cell_type": "code",
   "execution_count": 8,
   "metadata": {},
   "outputs": [
    {
     "data": {
      "text/plain": [
       "[('midP1', 'highC', 'US', 'Sweet Cheeks'),\n",
       " ('midP1', 'lowC', 'US', 'Kirkland Signature')]"
      ]
     },
     "execution_count": 8,
     "metadata": {},
     "output_type": "execute_result"
    }
   ],
   "source": [
    "transactions = []\n",
    "for index, row in df.iterrows():\n",
    "    transactions += [(row['points'], row['price'], row['country'], row['winery'])]\n",
    "transactions[:2]"
   ]
  },
  {
   "cell_type": "markdown",
   "metadata": {},
   "source": [
    "## 二、找出频繁模式\n",
    "以支持度和置信度阈值分别为0.009和0.06为例。"
   ]
  },
  {
   "cell_type": "code",
   "execution_count": 11,
   "metadata": {},
   "outputs": [],
   "source": [
    "rules = apriori(transactions, support=0.1, confidence=0.1)"
   ]
  },
  {
   "cell_type": "code",
   "execution_count": 12,
   "metadata": {},
   "outputs": [
    {
     "data": {
      "text/html": [
       "<div>\n",
       "<style scoped>\n",
       "    .dataframe tbody tr th:only-of-type {\n",
       "        vertical-align: middle;\n",
       "    }\n",
       "\n",
       "    .dataframe tbody tr th {\n",
       "        vertical-align: top;\n",
       "    }\n",
       "\n",
       "    .dataframe thead th {\n",
       "        text-align: right;\n",
       "    }\n",
       "</style>\n",
       "<table border=\"1\" class=\"dataframe\">\n",
       "  <thead>\n",
       "    <tr style=\"text-align: right;\">\n",
       "      <th></th>\n",
       "      <th>rules</th>\n",
       "      <th>support</th>\n",
       "      <th>confidence</th>\n",
       "      <th>lift</th>\n",
       "    </tr>\n",
       "  </thead>\n",
       "  <tbody>\n",
       "    <tr>\n",
       "      <th>0</th>\n",
       "      <td>midP1 =&gt; lowC</td>\n",
       "      <td>0.247376</td>\n",
       "      <td>0.408287</td>\n",
       "      <td>1.435576</td>\n",
       "    </tr>\n",
       "    <tr>\n",
       "      <th>1</th>\n",
       "      <td>lowC =&gt; midP1</td>\n",
       "      <td>0.247376</td>\n",
       "      <td>0.869797</td>\n",
       "      <td>1.435576</td>\n",
       "    </tr>\n",
       "    <tr>\n",
       "      <th>2</th>\n",
       "      <td>midC1 =&gt; midP1</td>\n",
       "      <td>0.159870</td>\n",
       "      <td>0.693470</td>\n",
       "      <td>1.144553</td>\n",
       "    </tr>\n",
       "    <tr>\n",
       "      <th>3</th>\n",
       "      <td>midP1 =&gt; midC1</td>\n",
       "      <td>0.159870</td>\n",
       "      <td>0.263860</td>\n",
       "      <td>1.144553</td>\n",
       "    </tr>\n",
       "  </tbody>\n",
       "</table>\n",
       "</div>"
      ],
      "text/plain": [
       "            rules   support  confidence      lift\n",
       "0   midP1 => lowC  0.247376    0.408287  1.435576\n",
       "1   lowC => midP1  0.247376    0.869797  1.435576\n",
       "2  midC1 => midP1  0.159870    0.693470  1.144553\n",
       "3  midP1 => midC1  0.159870    0.263860  1.144553"
      ]
     },
     "execution_count": 12,
     "metadata": {},
     "output_type": "execute_result"
    }
   ],
   "source": [
    "import csv as cs\n",
    "with open('result.csv', 'wt') as f:\n",
    "    f_csv = cs.writer(f, delimiter=',')\n",
    "    f_csv.writerow(['rules', 'support', 'confidence', 'lift'])\n",
    "    for r in rules:\n",
    "        f_csv.writerow([f'{str(list(r[0])[0])} => {str(list(r[1])[0])}', r[2], r[3], r[4]])\n",
    "pd.read_csv('result.csv')"
   ]
  },
  {
   "cell_type": "markdown",
   "metadata": {},
   "source": [
    "求得4个关联规则及其支持度和置信度(上表)"
   ]
  },
  {
   "cell_type": "markdown",
   "metadata": {},
   "source": [
    "### 2、求规则支持度、置信度和卡方检验  \n",
    "其中支持度、置信度已经在上表中求得"
   ]
  },
  {
   "cell_type": "code",
   "execution_count": 22,
   "metadata": {},
   "outputs": [],
   "source": [
    "from  scipy import stats\n",
    "import numpy as np"
   ]
  },
  {
   "cell_type": "code",
   "execution_count": 24,
   "metadata": {},
   "outputs": [],
   "source": [
    "def colu(df,col):\n",
    "    uni = df[col].unique().tolist()\n",
    "    return uni\n",
    "def observe(df,subcol,maincol):\n",
    "    d = []\n",
    "    lst1 = colu(df,subcol)\n",
    "    lst2 = colu(df,maincol)\n",
    "    for l in lst1:\n",
    "        for ls in lst2:\n",
    "            b = len(df[(df[subcol] == l)&(df[maincol]==ls)])\n",
    "            d.append(b)\n",
    "    return d\n",
    "def split_array(df,subcol,maincol):\n",
    "    result_lst = []\n",
    "    lst = observe(df,subcol,maincol)\n",
    "    for j in range(0,len(lst),len(colu(df,maincol))):\n",
    "        result = lst[j:j+len(colu(df,maincol))]\n",
    "        result_lst.append(result)\n",
    "    result_lst = np.array(result_lst)\n",
    "    return result_lst.T\n",
    "def chi(array):\n",
    "    #计算理论值\n",
    "    #main = np.sum(array,axis=1)\n",
    "    #sub = np.sum(array,axis=0)\n",
    "    sum_ = np.sum(np.sum(points_price))\n",
    "    #理论值:\n",
    "    #expectation_value = sum_*(main/np.sum(main))*(sub/np.sum(sub))\n",
    "    #expectation_value1 = sum_*(1-main/np.sum(main))*(sub/np.sum(sub))\n",
    "    if sum_ > 40:\n",
    "        print('样本量大于40')\n",
    "        chi,p,v,exp = stats.chi2_contingency(array,correction=False)\n",
    "    else:\n",
    "        print('样本量小于40')\n",
    "        chi,p,v,exp = stats.chi2_contingency(array,correction=True)\n",
    "    print ('''\n",
    "====================================================\n",
    "报告\n",
    "χ2值:{}\n",
    "p值:{}\n",
    "自由度:{}\n",
    "理论值:\n",
    "{}\n",
    "====================================================\n",
    "      '''.format(chi,p,v,exp))\n",
    "    if p > 0.05:\n",
    "        print('不拒绝原假设,无充分证据表明两个因素之间存在关系')\n",
    "    else:\n",
    "        if p < 0.05:\n",
    "            print('显著性水平α=0.05下,拒绝原假设,充分相关')\n",
    "        elif p < 0.01:\n",
    "            print('显著性水平α=0.01下,拒绝原假设,显著相关')\n",
    "    return (chi,p,v,exp)"
   ]
  },
  {
   "cell_type": "code",
   "execution_count": 25,
   "metadata": {},
   "outputs": [
    {
     "name": "stdout",
     "output_type": "stream",
     "text": [
      "样本量大于40\n",
      "\n",
      "====================================================\n",
      "报告\n",
      "χ2值:4989.547886289448\n",
      "p值:0.0\n",
      "自由度:9\n",
      "理论值:\n",
      "[[3145.16120963 1272.53352392  766.81274847    6.49251798]\n",
      " [3857.68472774 1560.82083352  940.53106714    7.9633716 ]\n",
      " [3434.16947336 1389.46638674  837.27502568    7.08911422]\n",
      " [3126.98458927 1265.17925582  762.38115871    6.4549962 ]]\n",
      "====================================================\n",
      "      \n",
      "显著性水平α=0.05下,拒绝原假设,充分相关\n"
     ]
    },
    {
     "data": {
      "text/plain": [
       "(4989.547886289448,\n",
       " 0.0,\n",
       " 9,\n",
       " array([[3145.16120963, 1272.53352392,  766.81274847,    6.49251798],\n",
       "        [3857.68472774, 1560.82083352,  940.53106714,    7.9633716 ],\n",
       "        [3434.16947336, 1389.46638674,  837.27502568,    7.08911422],\n",
       "        [3126.98458927, 1265.17925582,  762.38115871,    6.4549962 ]]))"
      ]
     },
     "execution_count": 25,
     "metadata": {},
     "output_type": "execute_result"
    }
   ],
   "source": [
    "points_price  = split_array(df,'points','price')\n",
    "chi(points_price)"
   ]
  },
  {
   "cell_type": "markdown",
   "metadata": {},
   "source": [
    "故卡方检验的结论是price属性和points属性显著相关"
   ]
  },
  {
   "cell_type": "markdown",
   "metadata": {},
   "source": [
    "## 三、挖掘结果分析  \n",
    "挖掘结果表明price属性和points属性显著相关，并且有midP1 => lowC等4个关联规则。然而并没有发现包含country和winery的关联规则，可能原因是price和points属性相关相对更强，导致在当前阈值设定下包含country和winery的关联规则没有被筛选出来。  \n",
    "从数据库角度的属性描述分析，price和points属性之间的关联规则是合理的"
   ]
  },
  {
   "cell_type": "markdown",
   "metadata": {},
   "source": [
    "## 四、可视化分析  \n",
    "为了可视化关联规则的置信度和支持度，我们下调支持度和置信度阈值"
   ]
  },
  {
   "cell_type": "code",
   "execution_count": 28,
   "metadata": {},
   "outputs": [],
   "source": [
    "rules = apriori(transactions, support=0.01, confidence=0.01)\n",
    "with open('result2.csv', 'wt') as f:\n",
    "    f_csv = cs.writer(f, delimiter=',')\n",
    "    f_csv.writerow(['rules', 'support', 'confidence', 'lift'])\n",
    "    for r in rules:\n",
    "        f_csv.writerow([f'{str(list(r[0])[0])} => {str(list(r[1])[0])}', r[2], r[3], r[4]])\n",
    "c2 = pd.read_csv('result2.csv')"
   ]
  },
  {
   "cell_type": "code",
   "execution_count": 30,
   "metadata": {},
   "outputs": [
    {
     "data": {
      "text/plain": [
       "<matplotlib.axes._subplots.AxesSubplot at 0x7f94e2b1e890>"
      ]
     },
     "execution_count": 30,
     "metadata": {},
     "output_type": "execute_result"
    },
    {
     "data": {
      "image/png": "[encoded data removed]",
      "text/plain": [
       "<Figure size 432x288 with 1 Axes>"
      ]
     },
     "metadata": {
      "needs_background": "light"
     },
     "output_type": "display_data"
    }
   ],
   "source": [
    "import matplotlib.pyplot as plt\n",
    "c2[['support','confidence','lift']].boxplot()\n",
    "plt.tight_layout()"
   ]
  }
 ],
 "metadata": {
  "kernelspec": {
   "display_name": "Python 3",
   "language": "python",
   "name": "python3"
  },
  "language_info": {
   "codemirror_mode": {
    "name": "ipython",
    "version": 3
   },
   "file_extension": ".py",
   "mimetype": "text/x-python",
   "name": "python",
   "nbconvert_exporter": "python",
   "pygments_lexer": "ipython3",
   "version": "3.7.4"
  }
 },
 "nbformat": 4,
 "nbformat_minor": 4
}
